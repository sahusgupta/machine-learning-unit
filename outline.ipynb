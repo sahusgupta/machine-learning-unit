{
 "cells": [
  {
   "cell_type": "markdown",
   "metadata": {},
   "source": [
    "Python Fundamentals\n",
    "\n",
    "Roadmap:\n",
    "1. Variables and Data Types, Output\n",
    "2. Loops, Functions, Conditionals\n",
    "3. Classes, Modules\n",
    "4. Introduction to Machine Learning Algorithms\n",
    "5. Getting Started with Scikit-Learn\n",
    "6. Getting Started with Pytorch\n",
    "7. Final Project\n",
    "\n",
    "\n",
    "How do Machine Learning and AI Models Work?\n",
    "1. Identify a problem or a task\n",
    "2. Find or gather data that accurately represents the task\n",
    "3. Clean and process the data so that it is easy to understand by a computer\n",
    "3. Identify whether the issue addressed is one of regression (predicting a numerical value), classification (predicting a categorical value), or clustering (grouping data points based on similarities)\n",
    "4. Identify the algorithms needed to maximize the performance of the model\n",
    "5. Implement\n",
    "6. Refine and adjust the model based on performance during training\n",
    "7. Test\n",
    "\n",
    "Final Project:\n",
    "Think of a real world problem that can be solved or addressed using machine learning. Then, use Kaggle to find a dataset that matches the problem or issue you have identified. Create a short, 200-300 word paper that describes the problem you have identified, and explains the machine learning algorithm that you think is most appropriate, or briefly describe the deep learning tools you will use to create a program that addresses the issue. You will be scored on your paper, the implementation of the machine learning algorithms, and the creativity you use for the project. Bonus points will be awarded to students that create some sort of visual interface for their algorithm to interact with, but is not required."
   ]
  },
  {
   "cell_type": "code",
   "execution_count": null,
   "metadata": {},
   "outputs": [],
   "source": []
  }
 ],
 "metadata": {
  "language_info": {
   "name": "python"
  }
 },
 "nbformat": 4,
 "nbformat_minor": 2
}
